{
 "cells": [
  {
   "cell_type": "code",
   "execution_count": 7,
   "metadata": {},
   "outputs": [],
   "source": [
    "import gym\n",
    "from gym_minigrid.wrappers import *\n",
    "env = gym.make('MiniGrid-Empty-8x8-v0')\n",
    "#env = RGBImgPartialObsWrapper(env) # Get pixel observations\n",
    "#env = ImgObsWrapper(env) # Get rid of the 'mission' field\n",
    "obs = env.reset() # This now produces an RGB tensor only"
   ]
  },
  {
   "cell_type": "code",
   "execution_count": 10,
   "metadata": {
    "scrolled": true
   },
   "outputs": [
    {
     "name": "stdout",
     "output_type": "stream",
     "text": [
      "Box(7, 7, 3)\n"
     ]
    }
   ],
   "source": [
    "print(env.observation_space['image'])"
   ]
  },
  {
   "cell_type": "code",
   "execution_count": 4,
   "metadata": {},
   "outputs": [
    {
     "ename": "NameError",
     "evalue": "name 'gym' is not defined",
     "output_type": "error",
     "traceback": [
      "\u001b[1;31m---------------------------------------------------------------------------\u001b[0m",
      "\u001b[1;31mNameError\u001b[0m                                 Traceback (most recent call last)",
      "\u001b[1;32m<ipython-input-4-fa1e49a70f49>\u001b[0m in \u001b[0;36m<module>\u001b[1;34m\u001b[0m\n\u001b[1;32m----> 1\u001b[1;33m \u001b[0menv\u001b[0m \u001b[1;33m=\u001b[0m \u001b[0mgym\u001b[0m\u001b[1;33m.\u001b[0m\u001b[0mmake\u001b[0m\u001b[1;33m(\u001b[0m\u001b[1;34m'CartPole-v1'\u001b[0m\u001b[1;33m)\u001b[0m\u001b[1;33m\u001b[0m\u001b[1;33m\u001b[0m\u001b[0m\n\u001b[0m",
      "\u001b[1;31mNameError\u001b[0m: name 'gym' is not defined"
     ]
    }
   ],
   "source": [
    "env = gym.make('CartPole-v1')"
   ]
  },
  {
   "cell_type": "code",
   "execution_count": 12,
   "metadata": {},
   "outputs": [
    {
     "data": {
      "text/plain": [
       "Box(4,)"
      ]
     },
     "execution_count": 12,
     "metadata": {},
     "output_type": "execute_result"
    }
   ],
   "source": [
    "env.observation_space"
   ]
  },
  {
   "cell_type": "code",
   "execution_count": 1,
   "metadata": {},
   "outputs": [],
   "source": [
    "import gym\n",
    "import torch"
   ]
  },
  {
   "cell_type": "code",
   "execution_count": 6,
   "metadata": {},
   "outputs": [],
   "source": [
    "ac = torch.load(r'../data/ppo/ppo_s0/pyt_save/model.pt')\n",
    "env = gym.make('CartPole-v1')"
   ]
  },
  {
   "cell_type": "code",
   "execution_count": 24,
   "metadata": {},
   "outputs": [
    {
     "name": "stdout",
     "output_type": "stream",
     "text": [
      "done episode, reward = 500.0\n",
      "done episode, reward = 500.0\n",
      "done episode, reward = 500.0\n",
      "done episode, reward = 500.0\n",
      "done episode, reward = 500.0\n",
      "done episode, reward = 500.0\n",
      "done episode, reward = 500.0\n",
      "done episode, reward = 500.0\n",
      "done episode, reward = 500.0\n",
      "done episode, reward = 500.0\n",
      "done episode, reward = 500.0\n",
      "done episode, reward = 500.0\n",
      "done episode, reward = 500.0\n",
      "done episode, reward = 500.0\n",
      "done episode, reward = 500.0\n",
      "done episode, reward = 500.0\n",
      "done episode, reward = 500.0\n",
      "done episode, reward = 500.0\n",
      "done episode, reward = 500.0\n",
      "done episode, reward = 500.0\n"
     ]
    }
   ],
   "source": [
    "epi_return = 0\n",
    "o = env.reset()\n",
    "for _ in range(10000):\n",
    "    a, v, logp = ac.step(torch.as_tensor(o, dtype=torch.float32))\n",
    "    env.render()\n",
    "    o, r, done, _ = env.step(a) # take a random action\n",
    "    epi_return += r\n",
    "    if done:\n",
    "        print(f'done episode, reward = {epi_return}')\n",
    "        o = env.reset()\n",
    "        epi_return = 0\n",
    "        \n",
    "env.close()"
   ]
  },
  {
   "cell_type": "code",
   "execution_count": 25,
   "metadata": {},
   "outputs": [],
   "source": [
    "import gym\n",
    "from gym_minigrid.wrappers import *\n",
    "env = gym.make('MiniGrid-Empty-8x8-v0')\n",
    "obs = env.reset() # This now produces an RGB tensor only"
   ]
  },
  {
   "cell_type": "code",
   "execution_count": 32,
   "metadata": {},
   "outputs": [
    {
     "name": "stdout",
     "output_type": "stream",
     "text": [
      "(7, 7, 3)\n"
     ]
    }
   ],
   "source": [
    "obs_dim = env.observation_space['image']\n",
    "print(obs_dim.shape)"
   ]
  },
  {
   "cell_type": "code",
   "execution_count": 33,
   "metadata": {},
   "outputs": [
    {
     "data": {
      "text/plain": [
       "(100, 7, 7, 3)"
      ]
     },
     "execution_count": 33,
     "metadata": {},
     "output_type": "execute_result"
    }
   ],
   "source": [
    "(100, *obs_dim.shape)"
   ]
  },
  {
   "cell_type": "code",
   "execution_count": 34,
   "metadata": {},
   "outputs": [],
   "source": [
    "o = env.reset()"
   ]
  },
  {
   "cell_type": "code",
   "execution_count": 41,
   "metadata": {},
   "outputs": [
    {
     "name": "stdout",
     "output_type": "stream",
     "text": [
      "(147,)\n"
     ]
    }
   ],
   "source": [
    "print(o['image'].flatten().shape)"
   ]
  },
  {
   "cell_type": "code",
   "execution_count": 47,
   "metadata": {},
   "outputs": [
    {
     "name": "stdout",
     "output_type": "stream",
     "text": [
      "(7, 7, 3)\n"
     ]
    }
   ],
   "source": [
    "print(env.observation_space['image'].shape)"
   ]
  },
  {
   "cell_type": "code",
   "execution_count": null,
   "metadata": {},
   "outputs": [],
   "source": []
  }
 ],
 "metadata": {
  "kernelspec": {
   "display_name": "Python 3",
   "language": "python",
   "name": "python3"
  },
  "language_info": {
   "codemirror_mode": {
    "name": "ipython",
    "version": 3
   },
   "file_extension": ".py",
   "mimetype": "text/x-python",
   "name": "python",
   "nbconvert_exporter": "python",
   "pygments_lexer": "ipython3",
   "version": "3.7.4"
  }
 },
 "nbformat": 4,
 "nbformat_minor": 2
}
